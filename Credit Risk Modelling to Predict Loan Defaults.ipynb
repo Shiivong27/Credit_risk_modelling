{
 "cells": [
  {
   "cell_type": "markdown",
   "metadata": {},
   "source": [
    "# CREDIT RISK MODELLING TO PREDICT LOAN DEFAULTS\n",
    "\n",
    "In this project, I have addressed the problem of classifying highly unbalanced data using supervised machine learning algorithms. Unbalanced data is ubiquitous in nature, it’s dealt with in a wide range of fields including but not limited to that of business, bioinformatics, engineering and banking sector. We have focussed here on Credit Risk, which is defined as risk of default on a debt that may arise from a borrower failing to make required payments.\n",
    "\n",
    "In the first resort, the risk is that of the lender and includes lost principal and interest, disruption to cash flows, and increased collection costs. Usually in a Credit Risk problem, loan default is a rare phenomenon and that is why we have such unbalanced data.\n",
    "\n",
    "Here, we have tried to **solve the problem of unbalanced data with the help of Logistic Regression and Classification and Regression Trees(CART).We have used techniques such Prior Probabilities, Loss Matrix and Matrix Weighing to deal with unbalanced data.**"
   ]
  },
  {
   "cell_type": "markdown",
   "metadata": {},
   "source": [
    "# ABOUT THE DATA \n",
    "\n",
    "The data set is from a bank where data about customers was collected on a yearly basis for analysis. In our data set, we have 8 variables.\n",
    "\n",
    "**loan_status** : A Categorical variable which represents 0 if the customer is a non-defaulter and 1 as defaulter.\n",
    "\n",
    "**loan_amnt** : A Numerical variable which tells us about the last loan amount taken by the said customer.\n",
    "\n",
    "**ir_cat** : A Numerical variable which tells us about the interest rate of the last loan amount taken by the customer.\n",
    "\n",
    "**grade** : A Categorical variable which tells us how important the customer is to the bank with A being highly important and G being least important.\n",
    "\n",
    "**emp_cat** : A Numerical variable which tells us about for how long the customer has been working at his/her current workplace.\n",
    "\n",
    "**home_ownership** : A Categorical variable which tells us about the type of house owned by the customer.\n",
    "\n",
    "**annual_inc** : A Numerical variable which tells us about the Annual income of the customer.\n",
    "\n",
    "**age** : A Numerical variable which tells us about the age of the customer."
   ]
  },
  {
   "cell_type": "markdown",
   "metadata": {},
   "source": [
    "# LOADING DATA AND EXPLONATORY DATA ANALYSIS \n",
    "\n",
    "Let us now load the neccessary libraries for perfroming Data Visualization and Data Pre-processing."
   ]
  },
  {
   "cell_type": "code",
   "execution_count": 1,
   "metadata": {},
   "outputs": [
    {
     "name": "stderr",
     "output_type": "stream",
     "text": [
      "Warning message:\n",
      "\"package 'gmodels' was built under R version 3.6.3\"\n",
      "Attaching package: 'dplyr'\n",
      "\n",
      "The following objects are masked from 'package:stats':\n",
      "\n",
      "    filter, lag\n",
      "\n",
      "The following objects are masked from 'package:base':\n",
      "\n",
      "    intersect, setdiff, setequal, union\n",
      "\n",
      "Warning message:\n",
      "\"package 'ggdark' was built under R version 3.6.3\""
     ]
    }
   ],
   "source": [
    "# Data Preprocessing and Data Visualization\n",
    "\n",
    "library(readxl, warn.conflicts = FALSE) # loading the excel package\n",
    "\n",
    "library(gmodels,warn.conflicts = FALSE) # Loading gmodels for modelling\n",
    "\n",
    "library(ggplot2,warn.conflicts = FALSE) # Loading ggplot2 for visualization\n",
    "\n",
    "library(dplyr)\n",
    "\n",
    "library(ggdark)"
   ]
  },
  {
   "cell_type": "code",
   "execution_count": null,
   "metadata": {},
   "outputs": [],
   "source": []
  },
  {
   "cell_type": "code",
   "execution_count": 2,
   "metadata": {},
   "outputs": [],
   "source": [
    "loan_data <- readRDS('loan_data_ch2.rds') # loan_data is our primary loan data set"
   ]
  },
  {
   "cell_type": "markdown",
   "metadata": {},
   "source": [
    "Let's find more about the dataset at hand by inspecting it's structure and the first 20 rows in the dataset."
   ]
  },
  {
   "cell_type": "code",
   "execution_count": 3,
   "metadata": {},
   "outputs": [
    {
     "name": "stdout",
     "output_type": "stream",
     "text": [
      "'data.frame':\t29091 obs. of  8 variables:\n",
      " $ loan_status   : int  0 0 0 0 0 0 1 0 1 0 ...\n",
      " $ loan_amnt     : int  5000 2400 10000 5000 3000 12000 9000 3000 10000 1000 ...\n",
      " $ grade         : Factor w/ 7 levels \"A\",\"B\",\"C\",\"D\",..: 2 3 3 1 5 2 3 2 2 4 ...\n",
      " $ home_ownership: Factor w/ 4 levels \"MORTGAGE\",\"OTHER\",..: 4 4 4 4 4 3 4 4 4 4 ...\n",
      " $ annual_inc    : num  24000 12252 49200 36000 48000 ...\n",
      " $ age           : int  33 31 24 39 24 28 22 22 28 22 ...\n",
      " $ emp_cat       : Factor w/ 5 levels \"0-15\",\"15-30\",..: 1 2 1 1 1 1 1 1 1 1 ...\n",
      " $ ir_cat        : Factor w/ 5 levels \"0-8\",\"11-13.5\",..: 4 5 2 5 5 2 2 4 4 3 ...\n"
     ]
    },
    {
     "data": {
      "text/html": [
       "<table>\n",
       "<thead><tr><th scope=col>loan_status</th><th scope=col>loan_amnt</th><th scope=col>grade</th><th scope=col>home_ownership</th><th scope=col>annual_inc</th><th scope=col>age</th><th scope=col>emp_cat</th><th scope=col>ir_cat</th></tr></thead>\n",
       "<tbody>\n",
       "\t<tr><td>0        </td><td> 5000    </td><td>B        </td><td>RENT     </td><td> 24000.00</td><td>33       </td><td>0-15     </td><td>8-11     </td></tr>\n",
       "\t<tr><td>0        </td><td> 2400    </td><td>C        </td><td>RENT     </td><td> 12252.00</td><td>31       </td><td>15-30    </td><td>Missing  </td></tr>\n",
       "\t<tr><td>0        </td><td>10000    </td><td>C        </td><td>RENT     </td><td> 49200.00</td><td>24       </td><td>0-15     </td><td>11-13.5  </td></tr>\n",
       "\t<tr><td>0        </td><td> 5000    </td><td>A        </td><td>RENT     </td><td> 36000.00</td><td>39       </td><td>0-15     </td><td>Missing  </td></tr>\n",
       "\t<tr><td>0        </td><td> 3000    </td><td>E        </td><td>RENT     </td><td> 48000.00</td><td>24       </td><td>0-15     </td><td>Missing  </td></tr>\n",
       "\t<tr><td>0        </td><td>12000    </td><td>B        </td><td>OWN      </td><td> 75000.00</td><td>28       </td><td>0-15     </td><td>11-13.5  </td></tr>\n",
       "\t<tr><td>1        </td><td> 9000    </td><td>C        </td><td>RENT     </td><td> 30000.00</td><td>22       </td><td>0-15     </td><td>11-13.5  </td></tr>\n",
       "\t<tr><td>0        </td><td> 3000    </td><td>B        </td><td>RENT     </td><td> 15000.00</td><td>22       </td><td>0-15     </td><td>8-11     </td></tr>\n",
       "\t<tr><td>1        </td><td>10000    </td><td>B        </td><td>RENT     </td><td>100000.00</td><td>28       </td><td>0-15     </td><td>8-11     </td></tr>\n",
       "\t<tr><td>0        </td><td> 1000    </td><td>D        </td><td>RENT     </td><td> 28000.00</td><td>22       </td><td>0-15     </td><td>13.5+    </td></tr>\n",
       "\t<tr><td>0        </td><td>10000    </td><td>C        </td><td>RENT     </td><td> 42000.00</td><td>23       </td><td>0-15     </td><td>Missing  </td></tr>\n",
       "\t<tr><td>0        </td><td> 3600    </td><td>A        </td><td>MORTGAGE </td><td>110000.00</td><td>27       </td><td>0-15     </td><td>0-8      </td></tr>\n",
       "\t<tr><td>0        </td><td> 6000    </td><td>B        </td><td>MORTGAGE </td><td> 84000.00</td><td>30       </td><td>0-15     </td><td>Missing  </td></tr>\n",
       "\t<tr><td>0        </td><td> 9200    </td><td>A        </td><td>RENT     </td><td> 77385.19</td><td>24       </td><td>0-15     </td><td>0-8      </td></tr>\n",
       "\t<tr><td>1        </td><td>21000    </td><td>B        </td><td>RENT     </td><td>105000.00</td><td>29       </td><td>15-30    </td><td>11-13.5  </td></tr>\n",
       "\t<tr><td>0        </td><td>10000    </td><td>B        </td><td>OWN      </td><td> 50000.00</td><td>23       </td><td>0-15     </td><td>11-13.5  </td></tr>\n",
       "\t<tr><td>0        </td><td>10000    </td><td>B        </td><td>RENT     </td><td> 50000.00</td><td>22       </td><td>0-15     </td><td>11-13.5  </td></tr>\n",
       "\t<tr><td>1        </td><td> 6000    </td><td>B        </td><td>RENT     </td><td> 76000.00</td><td>31       </td><td>0-15     </td><td>11-13.5  </td></tr>\n",
       "\t<tr><td>0        </td><td>15000    </td><td>B        </td><td>MORTGAGE </td><td> 92000.00</td><td>23       </td><td>0-15     </td><td>8-11     </td></tr>\n",
       "\t<tr><td>1        </td><td>15000    </td><td>C        </td><td>RENT     </td><td> 60000.00</td><td>30       </td><td>0-15     </td><td>13.5+    </td></tr>\n",
       "</tbody>\n",
       "</table>\n"
      ],
      "text/latex": [
       "\\begin{tabular}{r|llllllll}\n",
       " loan\\_status & loan\\_amnt & grade & home\\_ownership & annual\\_inc & age & emp\\_cat & ir\\_cat\\\\\n",
       "\\hline\n",
       "\t 0         &  5000     & B         & RENT      &  24000.00 & 33        & 0-15      & 8-11     \\\\\n",
       "\t 0         &  2400     & C         & RENT      &  12252.00 & 31        & 15-30     & Missing  \\\\\n",
       "\t 0         & 10000     & C         & RENT      &  49200.00 & 24        & 0-15      & 11-13.5  \\\\\n",
       "\t 0         &  5000     & A         & RENT      &  36000.00 & 39        & 0-15      & Missing  \\\\\n",
       "\t 0         &  3000     & E         & RENT      &  48000.00 & 24        & 0-15      & Missing  \\\\\n",
       "\t 0         & 12000     & B         & OWN       &  75000.00 & 28        & 0-15      & 11-13.5  \\\\\n",
       "\t 1         &  9000     & C         & RENT      &  30000.00 & 22        & 0-15      & 11-13.5  \\\\\n",
       "\t 0         &  3000     & B         & RENT      &  15000.00 & 22        & 0-15      & 8-11     \\\\\n",
       "\t 1         & 10000     & B         & RENT      & 100000.00 & 28        & 0-15      & 8-11     \\\\\n",
       "\t 0         &  1000     & D         & RENT      &  28000.00 & 22        & 0-15      & 13.5+    \\\\\n",
       "\t 0         & 10000     & C         & RENT      &  42000.00 & 23        & 0-15      & Missing  \\\\\n",
       "\t 0         &  3600     & A         & MORTGAGE  & 110000.00 & 27        & 0-15      & 0-8      \\\\\n",
       "\t 0         &  6000     & B         & MORTGAGE  &  84000.00 & 30        & 0-15      & Missing  \\\\\n",
       "\t 0         &  9200     & A         & RENT      &  77385.19 & 24        & 0-15      & 0-8      \\\\\n",
       "\t 1         & 21000     & B         & RENT      & 105000.00 & 29        & 15-30     & 11-13.5  \\\\\n",
       "\t 0         & 10000     & B         & OWN       &  50000.00 & 23        & 0-15      & 11-13.5  \\\\\n",
       "\t 0         & 10000     & B         & RENT      &  50000.00 & 22        & 0-15      & 11-13.5  \\\\\n",
       "\t 1         &  6000     & B         & RENT      &  76000.00 & 31        & 0-15      & 11-13.5  \\\\\n",
       "\t 0         & 15000     & B         & MORTGAGE  &  92000.00 & 23        & 0-15      & 8-11     \\\\\n",
       "\t 1         & 15000     & C         & RENT      &  60000.00 & 30        & 0-15      & 13.5+    \\\\\n",
       "\\end{tabular}\n"
      ],
      "text/markdown": [
       "\n",
       "| loan_status | loan_amnt | grade | home_ownership | annual_inc | age | emp_cat | ir_cat |\n",
       "|---|---|---|---|---|---|---|---|\n",
       "| 0         |  5000     | B         | RENT      |  24000.00 | 33        | 0-15      | 8-11      |\n",
       "| 0         |  2400     | C         | RENT      |  12252.00 | 31        | 15-30     | Missing   |\n",
       "| 0         | 10000     | C         | RENT      |  49200.00 | 24        | 0-15      | 11-13.5   |\n",
       "| 0         |  5000     | A         | RENT      |  36000.00 | 39        | 0-15      | Missing   |\n",
       "| 0         |  3000     | E         | RENT      |  48000.00 | 24        | 0-15      | Missing   |\n",
       "| 0         | 12000     | B         | OWN       |  75000.00 | 28        | 0-15      | 11-13.5   |\n",
       "| 1         |  9000     | C         | RENT      |  30000.00 | 22        | 0-15      | 11-13.5   |\n",
       "| 0         |  3000     | B         | RENT      |  15000.00 | 22        | 0-15      | 8-11      |\n",
       "| 1         | 10000     | B         | RENT      | 100000.00 | 28        | 0-15      | 8-11      |\n",
       "| 0         |  1000     | D         | RENT      |  28000.00 | 22        | 0-15      | 13.5+     |\n",
       "| 0         | 10000     | C         | RENT      |  42000.00 | 23        | 0-15      | Missing   |\n",
       "| 0         |  3600     | A         | MORTGAGE  | 110000.00 | 27        | 0-15      | 0-8       |\n",
       "| 0         |  6000     | B         | MORTGAGE  |  84000.00 | 30        | 0-15      | Missing   |\n",
       "| 0         |  9200     | A         | RENT      |  77385.19 | 24        | 0-15      | 0-8       |\n",
       "| 1         | 21000     | B         | RENT      | 105000.00 | 29        | 15-30     | 11-13.5   |\n",
       "| 0         | 10000     | B         | OWN       |  50000.00 | 23        | 0-15      | 11-13.5   |\n",
       "| 0         | 10000     | B         | RENT      |  50000.00 | 22        | 0-15      | 11-13.5   |\n",
       "| 1         |  6000     | B         | RENT      |  76000.00 | 31        | 0-15      | 11-13.5   |\n",
       "| 0         | 15000     | B         | MORTGAGE  |  92000.00 | 23        | 0-15      | 8-11      |\n",
       "| 1         | 15000     | C         | RENT      |  60000.00 | 30        | 0-15      | 13.5+     |\n",
       "\n"
      ],
      "text/plain": [
       "   loan_status loan_amnt grade home_ownership annual_inc age emp_cat ir_cat \n",
       "1  0            5000     B     RENT            24000.00  33  0-15    8-11   \n",
       "2  0            2400     C     RENT            12252.00  31  15-30   Missing\n",
       "3  0           10000     C     RENT            49200.00  24  0-15    11-13.5\n",
       "4  0            5000     A     RENT            36000.00  39  0-15    Missing\n",
       "5  0            3000     E     RENT            48000.00  24  0-15    Missing\n",
       "6  0           12000     B     OWN             75000.00  28  0-15    11-13.5\n",
       "7  1            9000     C     RENT            30000.00  22  0-15    11-13.5\n",
       "8  0            3000     B     RENT            15000.00  22  0-15    8-11   \n",
       "9  1           10000     B     RENT           100000.00  28  0-15    8-11   \n",
       "10 0            1000     D     RENT            28000.00  22  0-15    13.5+  \n",
       "11 0           10000     C     RENT            42000.00  23  0-15    Missing\n",
       "12 0            3600     A     MORTGAGE       110000.00  27  0-15    0-8    \n",
       "13 0            6000     B     MORTGAGE        84000.00  30  0-15    Missing\n",
       "14 0            9200     A     RENT            77385.19  24  0-15    0-8    \n",
       "15 1           21000     B     RENT           105000.00  29  15-30   11-13.5\n",
       "16 0           10000     B     OWN             50000.00  23  0-15    11-13.5\n",
       "17 0           10000     B     RENT            50000.00  22  0-15    11-13.5\n",
       "18 1            6000     B     RENT            76000.00  31  0-15    11-13.5\n",
       "19 0           15000     B     MORTGAGE        92000.00  23  0-15    8-11   \n",
       "20 1           15000     C     RENT            60000.00  30  0-15    13.5+  "
      ]
     },
     "metadata": {},
     "output_type": "display_data"
    }
   ],
   "source": [
    "str(loan_data)\n",
    "\n",
    "head(loan_data, n = 20)"
   ]
  },
  {
   "cell_type": "markdown",
   "metadata": {},
   "source": [
    "We can see that there is a good variety of datatypes of diffrent scales as well as a good mix of numerical and categorical data."
   ]
  },
  {
   "cell_type": "code",
   "execution_count": 4,
   "metadata": {},
   "outputs": [
    {
     "name": "stderr",
     "output_type": "stream",
     "text": [
      "Inverted geom defaults of fill and color/colour.\n",
      "To change them back, use invert_geom_defaults().\n"
     ]
    },
    {
     "data": {
      "image/png": "[encoded data removed]",
      "text/plain": [
       "plot without title"
      ]
     },
     "metadata": {},
     "output_type": "display_data"
    }
   ],
   "source": [
    "ggplot(loan_data, aes(x = loan_amnt, color = as.factor(loan_status))) + geom_histogram(position = 'identity', binwidth = 300) +\n",
    "      scale_color_brewer(palette = 'Dark2') +\n",
    "      dark_theme_gray(base_size = 14) + xlab('Loan Amount') + ylab('Frequency') + ggtitle('Loan Amount vs Loan Status')"
   ]
  },
  {
   "cell_type": "markdown",
   "metadata": {},
   "source": [
    "As expected, the histogram is right skewed. Now lets look at our data. Here, we are trying to predict loan_status, we see that 90% of our response variable is 0 and only about 10% is 1. Loan defaults is a rare phenomenon indeed."
   ]
  },
  {
   "cell_type": "code",
   "execution_count": 5,
   "metadata": {},
   "outputs": [
    {
     "name": "stdout",
     "output_type": "stream",
     "text": [
      "\n",
      " \n",
      "   Cell Contents\n",
      "|-------------------------|\n",
      "|                       N |\n",
      "|         N / Table Total |\n",
      "|-------------------------|\n",
      "\n",
      " \n",
      "Total Observations in Table:  29091 \n",
      "\n",
      " \n",
      "          |         0 |         1 | \n",
      "          |-----------|-----------|\n",
      "          |     25864 |      3227 | \n",
      "          |     0.889 |     0.111 | \n",
      "          |-----------|-----------|\n",
      "\n",
      "\n",
      "\n",
      " \n"
     ]
    }
   ],
   "source": [
    "loan_data$loan_status <- factor(loan_data$loan_status)\n",
    "\n",
    "CrossTable(loan_data$loan_status)"
   ]
  },
  {
   "cell_type": "markdown",
   "metadata": {},
   "source": [
    "There it is, the imbalance in data. We have non-default : default as 9 : 1, i.e., out of every 10 people that take a loan from the bank, only one defaults. This will prove to be a problem when we train our ML models and we will try to solve this by using a few techniques."
   ]
  },
  {
   "cell_type": "code",
   "execution_count": 6,
   "metadata": {},
   "outputs": [
    {
     "name": "stdout",
     "output_type": "stream",
     "text": [
      "\n",
      " \n",
      "   Cell Contents\n",
      "|-------------------------|\n",
      "|                       N |\n",
      "|         N / Table Total |\n",
      "|-------------------------|\n",
      "\n",
      " \n",
      "Total Observations in Table:  29091 \n",
      "\n",
      " \n",
      "          |  MORTGAGE |     OTHER |       OWN |      RENT | \n",
      "          |-----------|-----------|-----------|-----------|\n",
      "          |     12001 |        97 |      2301 |     14692 | \n",
      "          |     0.413 |     0.003 |     0.079 |     0.505 | \n",
      "          |-----------|-----------|-----------|-----------|\n",
      "\n",
      "\n",
      "\n",
      " \n"
     ]
    }
   ],
   "source": [
    "CrossTable(loan_data$home_ownership)"
   ]
  },
  {
   "cell_type": "markdown",
   "metadata": {},
   "source": [
    "Majority of our customers in the dataset either have a mortgage or are on rent, that is 42% and 50.5% respectively."
   ]
  },
  {
   "cell_type": "code",
   "execution_count": 7,
   "metadata": {},
   "outputs": [
    {
     "name": "stdout",
     "output_type": "stream",
     "text": [
      "\n",
      " \n",
      "   Cell Contents\n",
      "|-------------------------|\n",
      "|                       N |\n",
      "|           N / Row Total |\n",
      "|-------------------------|\n",
      "\n",
      " \n",
      "Total Observations in Table:  29091 \n",
      "\n",
      " \n",
      "                         | loan_data$loan_status \n",
      "loan_data$home_ownership |         0 |         1 | Row Total | \n",
      "-------------------------|-----------|-----------|-----------|\n",
      "                MORTGAGE |     10820 |      1181 |     12001 | \n",
      "                         |     0.902 |     0.098 |     0.413 | \n",
      "-------------------------|-----------|-----------|-----------|\n",
      "                   OTHER |        80 |        17 |        97 | \n",
      "                         |     0.825 |     0.175 |     0.003 | \n",
      "-------------------------|-----------|-----------|-----------|\n",
      "                     OWN |      2049 |       252 |      2301 | \n",
      "                         |     0.890 |     0.110 |     0.079 | \n",
      "-------------------------|-----------|-----------|-----------|\n",
      "                    RENT |     12915 |      1777 |     14692 | \n",
      "                         |     0.879 |     0.121 |     0.505 | \n",
      "-------------------------|-----------|-----------|-----------|\n",
      "            Column Total |     25864 |      3227 |     29091 | \n",
      "-------------------------|-----------|-----------|-----------|\n",
      "\n",
      " \n"
     ]
    }
   ],
   "source": [
    "Cross_home_loan <- CrossTable(loan_data$home_ownership,loan_data$loan_status,\n",
    "                    prop.r = TRUE,prop.c = FALSE,prop.t = FALSE,prop.chisq = FALSE)"
   ]
  },
  {
   "cell_type": "markdown",
   "metadata": {},
   "source": [
    "Again, a lot of defaulters seem to either have a mortgage or are on rent."
   ]
  },
  {
   "cell_type": "code",
   "execution_count": 8,
   "metadata": {},
   "outputs": [
    {
     "name": "stdout",
     "output_type": "stream",
     "text": [
      "\n",
      " \n",
      "   Cell Contents\n",
      "|-------------------------|\n",
      "|                       N |\n",
      "|           N / Row Total |\n",
      "|-------------------------|\n",
      "\n",
      " \n",
      "Total Observations in Table:  29091 \n",
      "\n",
      " \n",
      "                | loan_data$loan_status \n",
      "loan_data$grade |         0 |         1 | Row Total | \n",
      "----------------|-----------|-----------|-----------|\n",
      "              A |      9084 |       565 |      9649 | \n",
      "                |     0.941 |     0.059 |     0.332 | \n",
      "----------------|-----------|-----------|-----------|\n",
      "              B |      8344 |       985 |      9329 | \n",
      "                |     0.894 |     0.106 |     0.321 | \n",
      "----------------|-----------|-----------|-----------|\n",
      "              C |      4903 |       844 |      5747 | \n",
      "                |     0.853 |     0.147 |     0.198 | \n",
      "----------------|-----------|-----------|-----------|\n",
      "              D |      2651 |       580 |      3231 | \n",
      "                |     0.820 |     0.180 |     0.111 | \n",
      "----------------|-----------|-----------|-----------|\n",
      "              E |       692 |       176 |       868 | \n",
      "                |     0.797 |     0.203 |     0.030 | \n",
      "----------------|-----------|-----------|-----------|\n",
      "              F |       155 |        56 |       211 | \n",
      "                |     0.735 |     0.265 |     0.007 | \n",
      "----------------|-----------|-----------|-----------|\n",
      "              G |        35 |        21 |        56 | \n",
      "                |     0.625 |     0.375 |     0.002 | \n",
      "----------------|-----------|-----------|-----------|\n",
      "   Column Total |     25864 |      3227 |     29091 | \n",
      "----------------|-----------|-----------|-----------|\n",
      "\n",
      " \n"
     ]
    }
   ],
   "source": [
    "Cross_grade_loan <- CrossTable(loan_data$grade,loan_data$loan_status,\n",
    "                     prop.r = TRUE,prop.c = FALSE,prop.t = FALSE,prop.chisq = FALSE) "
   ]
  },
  {
   "cell_type": "markdown",
   "metadata": {},
   "source": [
    "**As the credit grade for the person falls, the chances of them defaulting increases by almost two fold.** Someone with a grade 'G' is almost twice as much likely to default on their loan than compared to someone with geade 'E'."
   ]
  },
  {
   "cell_type": "code",
   "execution_count": 69,
   "metadata": {},
   "outputs": [
    {
     "data": {
      "image/png": "[encoded data removed]",
      "text/plain": [
       "Plot with title \"Proportions of Default/Non-Default wrt Ownership\""
      ]
     },
     "metadata": {},
     "output_type": "display_data"
    }
   ],
   "source": [
    "plot(Cross_home_loan$prop.tbl,col = c(\"bisque2\",\"azure3\"),main = \"Proportions of Default/Non-Default wrt Ownership\"\n",
    "     ,xlab = \"Grade of the customer\",ylab = \"1 - Default    0 - Non-default\")"
   ]
  },
  {
   "cell_type": "markdown",
   "metadata": {},
   "source": [
    "There’s not much to discuss here as there is no definitive pattern that we observe. Let’s see if we can find any association of loan defaults with grades."
   ]
  },
  {
   "cell_type": "code",
   "execution_count": 10,
   "metadata": {},
   "outputs": [
    {
     "data": {
      "image/png": "[encoded data removed]",
      "text/plain": [
       "Plot with title \"Proportions of Default/Non-Default wrt Grade\""
      ]
     },
     "metadata": {},
     "output_type": "display_data"
    }
   ],
   "source": [
    "plot(Cross_grade_loan$prop.tbl,col = c(\"cornflowerblue\",\"chartreuse3\"),main = \"Proportions of Default/Non-Default wrt Grade\"\n",
    "     ,xlab = \"Grade of the customer\",ylab = \"1 - Default    0 - Non-default\")"
   ]
  },
  {
   "cell_type": "markdown",
   "metadata": {},
   "source": [
    "There definitely is a pattern here, the number of loan defaults indcrease as we move away from grade A. That is logical, as most bad customers(usually grade E,F,G) are more likely to default on their loans.\n",
    "\n",
    "Let’s see if we have any missing data. Infact, we do. There are a lot of missing values in our employee length and interest rate variables. One way to get rid of this is that we put them in bins and then convert them into categorical variables."
   ]
  },
  {
   "cell_type": "code",
   "execution_count": 11,
   "metadata": {},
   "outputs": [
    {
     "data": {
      "text/html": [
       "<dl class=dl-horizontal>\n",
       "\t<dt>0-15</dt>\n",
       "\t\t<dd>25642</dd>\n",
       "\t<dt>15-30</dt>\n",
       "\t\t<dd>2345</dd>\n",
       "\t<dt>30-45</dt>\n",
       "\t\t<dd>263</dd>\n",
       "\t<dt>45+</dt>\n",
       "\t\t<dd>32</dd>\n",
       "\t<dt>Missing</dt>\n",
       "\t\t<dd>809</dd>\n",
       "</dl>\n"
      ],
      "text/latex": [
       "\\begin{description*}\n",
       "\\item[0-15] 25642\n",
       "\\item[15-30] 2345\n",
       "\\item[30-45] 263\n",
       "\\item[45+] 32\n",
       "\\item[Missing] 809\n",
       "\\end{description*}\n"
      ],
      "text/markdown": [
       "0-15\n",
       ":   2564215-30\n",
       ":   234530-45\n",
       ":   26345+\n",
       ":   32Missing\n",
       ":   809\n",
       "\n"
      ],
      "text/plain": [
       "   0-15   15-30   30-45     45+ Missing \n",
       "  25642    2345     263      32     809 "
      ]
     },
     "metadata": {},
     "output_type": "display_data"
    }
   ],
   "source": [
    "summary(loan_data$emp_cat) # finding the number of missing data in employee category"
   ]
  },
  {
   "cell_type": "code",
   "execution_count": 12,
   "metadata": {},
   "outputs": [
    {
     "data": {
      "text/html": [
       "<dl class=dl-horizontal>\n",
       "\t<dt>0-8</dt>\n",
       "\t\t<dd>7130</dd>\n",
       "\t<dt>11-13.5</dt>\n",
       "\t\t<dd>6953</dd>\n",
       "\t<dt>13.5+</dt>\n",
       "\t\t<dd>6002</dd>\n",
       "\t<dt>8-11</dt>\n",
       "\t\t<dd>6230</dd>\n",
       "\t<dt>Missing</dt>\n",
       "\t\t<dd>2776</dd>\n",
       "</dl>\n"
      ],
      "text/latex": [
       "\\begin{description*}\n",
       "\\item[0-8] 7130\n",
       "\\item[11-13.5] 6953\n",
       "\\item[13.5+] 6002\n",
       "\\item[8-11] 6230\n",
       "\\item[Missing] 2776\n",
       "\\end{description*}\n"
      ],
      "text/markdown": [
       "0-8\n",
       ":   713011-13.5\n",
       ":   695313.5+\n",
       ":   60028-11\n",
       ":   6230Missing\n",
       ":   2776\n",
       "\n"
      ],
      "text/plain": [
       "    0-8 11-13.5   13.5+    8-11 Missing \n",
       "   7130    6953    6002    6230    2776 "
      ]
     },
     "metadata": {},
     "output_type": "display_data"
    }
   ],
   "source": [
    "summary(loan_data$ir_cat) # finding the number of missing data in interest rate category "
   ]
  },
  {
   "cell_type": "code",
   "execution_count": 13,
   "metadata": {},
   "outputs": [
    {
     "data": {
      "image/png": "[encoded data removed]",
      "text/plain": [
       "plot without title"
      ]
     },
     "metadata": {},
     "output_type": "display_data"
    }
   ],
   "source": [
    "gg_status_loan <- ggplot(loan_data, aes(x = factor(loan_status), fill = grade))\n",
    "\n",
    "val = c('lightcyan2', 'lightcyan3','lightblue','lightcyan4','cadetblue3','aquamarine','darkblue')\n",
    "lab = c('A','B','C','D','E','F','G')\n",
    "gg_status_loan + geom_bar(position = 'dodge', alpha = 0.75) + \n",
    "      scale_x_discrete('Loan Status') +\n",
    "      scale_y_continuous('Frequency') +\n",
    "      scale_fill_manual('Grades', values = val, labels = lab) +\n",
    "      scale_color_brewer(palette = 'Dark2') +\n",
    "      dark_theme_gray(base_size = 14)"
   ]
  },
  {
   "cell_type": "code",
   "execution_count": 14,
   "metadata": {},
   "outputs": [
    {
     "data": {
      "image/png": "[encoded data removed]",
      "text/plain": [
       "plot without title"
      ]
     },
     "metadata": {},
     "output_type": "display_data"
    }
   ],
   "source": [
    "ggplot(loan_data,aes(x = annual_inc,y = ir_cat, color = as.factor(grade))) + geom_point() +\n",
    "      facet_grid(grade ~ .) +\n",
    "      scale_color_brewer(palette = 'Dark2') +\n",
    "      dark_theme_gray(base_size = 14) + xlab('Annucal Income') + ylab('Interest Rate Category') +\n",
    "      ggtitle('Annual Income as a function of Interest Rate Category and Grade')"
   ]
  },
  {
   "cell_type": "markdown",
   "metadata": {},
   "source": [
    "The count of grades with respect to loan defaults gives us little insight, but distribution of annual income vs interest rates tells us that there are a lot of people with 13.5+ interest rate with good annual incomes.\n",
    "\n",
    "To plot an income distribution across grades, we will need to scale down our annual income variable temporarily."
   ]
  },
  {
   "cell_type": "code",
   "execution_count": 15,
   "metadata": {},
   "outputs": [
    {
     "data": {
      "image/png": "[encoded data removed]",
      "text/plain": [
       "plot without title"
      ]
     },
     "metadata": {},
     "output_type": "display_data"
    }
   ],
   "source": [
    "# scale down loan_data$annual_inc first\n",
    "\n",
    "color <- scale_fill_brewer('Loan Grades', palette = 'Reds')\n",
    "\n",
    "loan_new <- loan_data\n",
    "\n",
    "loan_new$annual_inc <- loan_new$annual_inc/10000\n",
    "\n",
    "ggplot(loan_new,aes(x = annual_inc,fill = factor(grade))) + \n",
    "      geom_histogram(binwidth = 1) + color + facet_grid(grade ~. ) +\n",
    "      scale_color_brewer(palette = 'Dark2') +\n",
    "      dark_theme_gray(base_size = 14) + xlab('Annual Income') + ylab('Frequency') +\n",
    "      ggtitle('Annual Income of people w.r.t Credit Grades')"
   ]
  },
  {
   "cell_type": "markdown",
   "metadata": {},
   "source": [
    "We see that customers with a higher grade have more annual income."
   ]
  },
  {
   "cell_type": "markdown",
   "metadata": {},
   "source": [
    "# LOGISTIC REGRESSION AND MODEL PERFORMANCE\n",
    "\n",
    "In statistics, logistic regression, or logit regression, or logit model is a regression model where the dependent variable (DV) is categorical.**Logistic regression measures the relationship between the categorical dependent variable and one or more independent variables by estimating probabilities using a logistic function, which is the cumulative logistic distribution.**\n",
    "\n",
    "Thus, it treats the same set of problems as probit regression using similar techniques with the latter using a cumulative normal distribution curve instead. Equivalently, in the latent variable interpretations of these two methods, the first assumes a standard logistic distribution of errors and the second a standard normal distribution of errors.\n",
    "\n",
    "Logistic regression can be seen as a **special case of the generalized linear model** and thus analogous to linear regression. The model of logistic regression, however, is based on quite different assumptions (about the relationship between dependent and independent variables) from those of linear regression. In particular the key differences of these two models can be seen in the following two features of logistic regression.\n",
    "\n",
    "First, the **conditional distribution, is a Bernoulli distribution rather than a Gaussian distribution, because the dependent variable is binary**. Second, the **predicted values are probabilities** and are therefore restricted to (0,1) through the logistic distribution function because **logistic regression predicts the probability of particular outcomes.**"
   ]
  },
  {
   "cell_type": "code",
   "execution_count": 16,
   "metadata": {},
   "outputs": [
    {
     "name": "stderr",
     "output_type": "stream",
     "text": [
      "Loading required package: gplots\n",
      "\n",
      "Attaching package: 'gplots'\n",
      "\n",
      "The following object is masked from 'package:stats':\n",
      "\n",
      "    lowess\n",
      "\n",
      "Type 'citation(\"pROC\")' for a citation.\n"
     ]
    },
    {
     "data": {
      "text/plain": [
       "\n",
       "Call:\n",
       "glm(formula = loan_status ~ ir_cat + grade + loan_amnt + annual_inc, \n",
       "    family = \"binomial\", data = training_set)\n",
       "\n",
       "Deviance Residuals: \n",
       "    Min       1Q   Median       3Q      Max  \n",
       "-1.0827  -0.5438  -0.4503  -0.3291   3.3431  \n",
       "\n",
       "Coefficients:\n",
       "                Estimate Std. Error z value Pr(>|z|)    \n",
       "(Intercept)   -2.535e+00  7.832e-02 -32.366  < 2e-16 ***\n",
       "ir_cat11-13.5  7.139e-01  1.309e-01   5.453 4.95e-08 ***\n",
       "ir_cat13.5+    6.929e-01  1.452e-01   4.771 1.83e-06 ***\n",
       "ir_cat8-11     5.133e-01  1.165e-01   4.407 1.05e-05 ***\n",
       "ir_catMissing  5.276e-01  1.280e-01   4.120 3.79e-05 ***\n",
       "gradeB         2.230e-01  1.040e-01   2.144   0.0320 *  \n",
       "gradeC         4.945e-01  1.192e-01   4.150 3.33e-05 ***\n",
       "gradeD         7.783e-01  1.353e-01   5.755 8.69e-09 ***\n",
       "gradeE         1.019e+00  1.612e-01   6.323 2.56e-10 ***\n",
       "gradeF         1.351e+00  2.283e-01   5.917 3.29e-09 ***\n",
       "gradeG         1.844e+00  3.589e-01   5.137 2.80e-07 ***\n",
       "loan_amnt     -7.496e-06  4.181e-06  -1.793   0.0729 .  \n",
       "annual_inc    -5.275e-06  7.326e-07  -7.200 6.01e-13 ***\n",
       "---\n",
       "Signif. codes:  0 '***' 0.001 '**' 0.01 '*' 0.05 '.' 0.1 ' ' 1\n",
       "\n",
       "(Dispersion parameter for binomial family taken to be 1)\n",
       "\n",
       "    Null deviance: 13684  on 19393  degrees of freedom\n",
       "Residual deviance: 13111  on 19381  degrees of freedom\n",
       "AIC: 13137\n",
       "\n",
       "Number of Fisher Scoring iterations: 5\n"
      ]
     },
     "metadata": {},
     "output_type": "display_data"
    }
   ],
   "source": [
    "# Logistic Regression\n",
    "set.seed(123)\n",
    "\n",
    "library(ROCR, warn.conflicts = FALSE)\n",
    "library(pROC, warn.conflicts = FALSE)\n",
    "\n",
    "index_train <- sample(1:nrow(loan_data), 2 / 3* nrow(loan_data)) # making a random sample of training set.\n",
    "\n",
    "training_set <- loan_data[c(index_train), ] # storing the random sample in a training set.\n",
    "\n",
    "testing_set <- loan_data[-index_train, ]\n",
    "\n",
    "# Let's start playing around with logistic regression.\n",
    "\n",
    "\n",
    "log_reg_small <- glm(loan_status ~ ir_cat + grade + loan_amnt + annual_inc,\n",
    "                     family = \"binomial\", data = training_set)\n",
    "\n",
    "summary(log_reg_small) # estimating the vaiable's of importance in our model. Loan amount is not significant."
   ]
  },
  {
   "cell_type": "markdown",
   "metadata": {},
   "source": [
    "Looking at the summary of our model, we can say that **interest rates, annual income and grades** are all very important in our model. **Loan amount is not a very significant variable in our model.**\n",
    "\n",
    "Time to make some predictions with our model and test it on various parameters."
   ]
  },
  {
   "cell_type": "code",
   "execution_count": 17,
   "metadata": {},
   "outputs": [
    {
     "data": {
      "text/html": [
       "<ol class=list-inline>\n",
       "\t<li>5.29478157301412e-06</li>\n",
       "\t<li>0.457205048922749</li>\n",
       "</ol>\n"
      ],
      "text/latex": [
       "\\begin{enumerate*}\n",
       "\\item 5.29478157301412e-06\n",
       "\\item 0.457205048922749\n",
       "\\end{enumerate*}\n"
      ],
      "text/markdown": [
       "1. 5.29478157301412e-06\n",
       "2. 0.457205048922749\n",
       "\n",
       "\n"
      ],
      "text/plain": [
       "[1] 5.294782e-06 4.572050e-01"
      ]
     },
     "metadata": {},
     "output_type": "display_data"
    }
   ],
   "source": [
    "predictions_small <- predict(log_reg_small, newdata = testing_set,\n",
    "                              type = \"response\")                \n",
    "\n",
    "range(predictions_small) # getting the range of the probabilities calculated above."
   ]
  },
  {
   "cell_type": "markdown",
   "metadata": {},
   "source": [
    "Looks like the range is not a lot, with mahority of the cases falling in somewhere in the middle. See, this is the prpblem we face with imbalanced data. How do we decide the cut-off or threshold value? We can only experiment. Let's try with 0.15."
   ]
  },
  {
   "cell_type": "code",
   "execution_count": 18,
   "metadata": {},
   "outputs": [
    {
     "data": {
      "text/plain": [
       "   pred_cutoff_15_small\n",
       "       0    1\n",
       "  0 6703 1959\n",
       "  1  629  406"
      ]
     },
     "metadata": {},
     "output_type": "display_data"
    }
   ],
   "source": [
    "pred_cutoff_15_small <- ifelse(predictions_small > 0.15,1,0)\n",
    "\n",
    "conf_15_small <- table(testing_set$loan_status, pred_cutoff_15_small)\n",
    "conf_15_small # "
   ]
  },
  {
   "cell_type": "markdown",
   "metadata": {},
   "source": [
    "Now that we have the predictions on the testing set with it's original labels, we can find the accuracy of our model."
   ]
  },
  {
   "cell_type": "code",
   "execution_count": 19,
   "metadata": {},
   "outputs": [
    {
     "data": {
      "text/html": [
       "'Accuracy of the LR model with threshold at 0.15 is : 73.3113334020831%'"
      ],
      "text/latex": [
       "'Accuracy of the LR model with threshold at 0.15 is : 73.3113334020831\\%'"
      ],
      "text/markdown": [
       "'Accuracy of the LR model with threshold at 0.15 is : 73.3113334020831%'"
      ],
      "text/plain": [
       "[1] \"Accuracy of the LR model with threshold at 0.15 is : 73.3113334020831%\""
      ]
     },
     "metadata": {},
     "output_type": "display_data"
    }
   ],
   "source": [
    "accuracy_15_small <- sum(diag(conf_15_small))/sum(conf_15_small)\n",
    "\n",
    "paste('Accuracy of the LR model with threshold at 0.15 is :', paste(accuracy_15_small * 100, '%', sep = ''))"
   ]
  },
  {
   "cell_type": "code",
   "execution_count": 20,
   "metadata": {},
   "outputs": [
    {
     "data": {
      "text/plain": [
       "   pred_cutoff_20_small\n",
       "       0    1\n",
       "  0 8143  519\n",
       "  1  904  131"
      ]
     },
     "metadata": {},
     "output_type": "display_data"
    }
   ],
   "source": [
    "pred_cutoff_20_small <- ifelse(predictions_small > 0.20,1,0)\n",
    "\n",
    "conf_20_small <- table(testing_set$loan_status, pred_cutoff_20_small)\n",
    "conf_20_small"
   ]
  },
  {
   "cell_type": "code",
   "execution_count": 21,
   "metadata": {},
   "outputs": [
    {
     "data": {
      "text/html": [
       "'Accuracy of the LR model with threshold at 0.20 is : 85.3253583582551%'"
      ],
      "text/latex": [
       "'Accuracy of the LR model with threshold at 0.20 is : 85.3253583582551\\%'"
      ],
      "text/markdown": [
       "'Accuracy of the LR model with threshold at 0.20 is : 85.3253583582551%'"
      ],
      "text/plain": [
       "[1] \"Accuracy of the LR model with threshold at 0.20 is : 85.3253583582551%\""
      ]
     },
     "metadata": {},
     "output_type": "display_data"
    }
   ],
   "source": [
    "accuracy_20_small <- sum(diag(conf_20_small))/sum(conf_20_small)\n",
    "\n",
    "paste('Accuracy of the LR model with threshold at 0.20 is :', paste(accuracy_20_small * 100, '%', sep = ''))"
   ]
  },
  {
   "cell_type": "markdown",
   "metadata": {},
   "source": [
    "**85%? Not bad! But is classification accuracy the correct measure here to evaluate performance?** "
   ]
  },
  {
   "cell_type": "markdown",
   "metadata": {},
   "source": [
    "We see that depending on the cutoff value of 0.15 and 0.20, we get accuracies of 73% and 85% respectively. Now let us plot the ROC Curve and calculate the AUC(Area under the curve) for our model."
   ]
  },
  {
   "cell_type": "code",
   "execution_count": 22,
   "metadata": {},
   "outputs": [
    {
     "data": {
      "image/png": "[encoded data removed]",
      "text/plain": [
       "plot without title"
      ]
     },
     "metadata": {},
     "output_type": "display_data"
    }
   ],
   "source": [
    "pred_train_small <- predict(log_reg_small,type = \"response\")\n",
    "\n",
    "predROC_small <- prediction(pred_train_small, training_set$loan_status)\n",
    "\n",
    "perfROC_small <- performance(predROC_small,\"tpr\",\"fpr\")\n",
    "\n",
    "plot(perfROC_small, colorize = TRUE,\n",
    "     print.cutoffs.at = seq(0,1,0.1),text.adj = c(-0.2,1.7))"
   ]
  },
  {
   "cell_type": "code",
   "execution_count": 23,
   "metadata": {},
   "outputs": [
    {
     "data": {
      "text/html": [
       "'Area under the curve is : 0.655950929148463'"
      ],
      "text/latex": [
       "'Area under the curve is : 0.655950929148463'"
      ],
      "text/markdown": [
       "'Area under the curve is : 0.655950929148463'"
      ],
      "text/plain": [
       "[1] \"Area under the curve is : 0.655950929148463\""
      ]
     },
     "metadata": {},
     "output_type": "display_data"
    }
   ],
   "source": [
    "AUC_small <- as.numeric(performance(predROC_small , \"auc\")@y.values)\n",
    "\n",
    "paste('Area under the curve is :', AUC_small)"
   ]
  },
  {
   "cell_type": "markdown",
   "metadata": {},
   "source": [
    "We see that the we get an AUC of 0.6559. That’s a pretty decent AUC considering that we used only 4 predcitors in our Logistic model. Can we increase the accuracy by using all the variables? Let’s find out."
   ]
  },
  {
   "cell_type": "code",
   "execution_count": 24,
   "metadata": {},
   "outputs": [
    {
     "data": {
      "text/plain": [
       "\n",
       "Call:\n",
       "glm(formula = loan_status ~ ., family = \"binomial\", data = training_set)\n",
       "\n",
       "Deviance Residuals: \n",
       "    Min       1Q   Median       3Q      Max  \n",
       "-1.1907  -0.5420  -0.4461  -0.3228   3.3283  \n",
       "\n",
       "Coefficients:\n",
       "                      Estimate Std. Error z value Pr(>|z|)    \n",
       "(Intercept)         -2.305e+00  1.365e-01 -16.887  < 2e-16 ***\n",
       "loan_amnt           -7.495e-06  4.183e-06  -1.792   0.0732 .  \n",
       "gradeB               2.240e-01  1.043e-01   2.147   0.0318 *  \n",
       "gradeC               5.072e-01  1.195e-01   4.245 2.19e-05 ***\n",
       "gradeD               8.025e-01  1.356e-01   5.918 3.26e-09 ***\n",
       "gradeE               1.048e+00  1.616e-01   6.488 8.72e-11 ***\n",
       "gradeF               1.372e+00  2.288e-01   5.997 2.01e-09 ***\n",
       "gradeG               1.868e+00  3.591e-01   5.202 1.97e-07 ***\n",
       "home_ownershipOTHER  6.757e-01  3.209e-01   2.106   0.0352 *  \n",
       "home_ownershipOWN   -5.076e-02  9.078e-02  -0.559   0.5761    \n",
       "home_ownershipRENT  -6.289e-02  5.220e-02  -1.205   0.2283    \n",
       "annual_inc          -5.091e-06  7.648e-07  -6.657 2.80e-11 ***\n",
       "age                 -9.743e-03  3.981e-03  -2.447   0.0144 *  \n",
       "emp_cat15-30         1.377e-01  8.621e-02   1.597   0.1103    \n",
       "emp_cat30-45        -3.279e-01  2.920e-01  -1.123   0.2615    \n",
       "emp_cat45+           1.105e+00  5.333e-01   2.072   0.0383 *  \n",
       "emp_catMissing       6.855e-01  1.162e-01   5.897 3.69e-09 ***\n",
       "ir_cat11-13.5        7.439e-01  1.315e-01   5.658 1.53e-08 ***\n",
       "ir_cat13.5+          7.090e-01  1.456e-01   4.870 1.12e-06 ***\n",
       "ir_cat8-11           5.358e-01  1.169e-01   4.582 4.61e-06 ***\n",
       "ir_catMissing        5.425e-01  1.283e-01   4.228 2.36e-05 ***\n",
       "---\n",
       "Signif. codes:  0 '***' 0.001 '**' 0.01 '*' 0.05 '.' 0.1 ' ' 1\n",
       "\n",
       "(Dispersion parameter for binomial family taken to be 1)\n",
       "\n",
       "    Null deviance: 13684  on 19393  degrees of freedom\n",
       "Residual deviance: 13061  on 19373  degrees of freedom\n",
       "AIC: 13103\n",
       "\n",
       "Number of Fisher Scoring iterations: 5\n"
      ]
     },
     "metadata": {},
     "output_type": "display_data"
    }
   ],
   "source": [
    "log_reg_full <- glm(loan_status ~., family = \"binomial\", data = training_set)\n",
    "\n",
    "summary(log_reg_full)"
   ]
  },
  {
   "cell_type": "code",
   "execution_count": 25,
   "metadata": {},
   "outputs": [
    {
     "data": {
      "text/html": [
       "<ol class=list-inline>\n",
       "\t<li>6.30507150818522e-06</li>\n",
       "\t<li>0.499744108529392</li>\n",
       "</ol>\n"
      ],
      "text/latex": [
       "\\begin{enumerate*}\n",
       "\\item 6.30507150818522e-06\n",
       "\\item 0.499744108529392\n",
       "\\end{enumerate*}\n"
      ],
      "text/markdown": [
       "1. 6.30507150818522e-06\n",
       "2. 0.499744108529392\n",
       "\n",
       "\n"
      ],
      "text/plain": [
       "[1] 6.305072e-06 4.997441e-01"
      ]
     },
     "metadata": {},
     "output_type": "display_data"
    }
   ],
   "source": [
    "predictions_full <- predict(log_reg_full, newdata = testing_set, type = \"response\")\n",
    "\n",
    "range(predictions_full)"
   ]
  },
  {
   "cell_type": "code",
   "execution_count": 26,
   "metadata": {},
   "outputs": [
    {
     "data": {
      "text/plain": [
       "   pred_cutoff_15\n",
       "       0    1\n",
       "  0 6724 1938\n",
       "  1  629  406"
      ]
     },
     "metadata": {},
     "output_type": "display_data"
    }
   ],
   "source": [
    "pred_cutoff_15 <- ifelse(predictions_full > 0.15,1,0)\n",
    "\n",
    "confmat_15_full <- table(testing_set$loan_status,pred_cutoff_15)\n",
    "confmat_15_full # 0.392 Sensitivity"
   ]
  },
  {
   "cell_type": "code",
   "execution_count": 27,
   "metadata": {},
   "outputs": [
    {
     "data": {
      "text/html": [
       "'Accuracy of the full LR model with threshold at 0.15 is : 73.5278952253274%'"
      ],
      "text/latex": [
       "'Accuracy of the full LR model with threshold at 0.15 is : 73.5278952253274\\%'"
      ],
      "text/markdown": [
       "'Accuracy of the full LR model with threshold at 0.15 is : 73.5278952253274%'"
      ],
      "text/plain": [
       "[1] \"Accuracy of the full LR model with threshold at 0.15 is : 73.5278952253274%\""
      ]
     },
     "metadata": {},
     "output_type": "display_data"
    }
   ],
   "source": [
    "accuracy_15 <- sum(diag(confmat_15_full))/sum(confmat_15_full)\n",
    "\n",
    "paste('Accuracy of the full LR model with threshold at 0.15 is :', paste(accuracy_15 * 100, '%', sep = ''))"
   ]
  },
  {
   "cell_type": "code",
   "execution_count": 28,
   "metadata": {},
   "outputs": [
    {
     "data": {
      "text/plain": [
       "   pred_cutoff_20\n",
       "       0    1\n",
       "  0 8092  570\n",
       "  1  882  153"
      ]
     },
     "metadata": {},
     "output_type": "display_data"
    }
   ],
   "source": [
    "pred_cutoff_20 <- ifelse(predictions_full > 0.20,1,0)\n",
    "\n",
    "confmat_20_full <- table(testing_set$loan_status,pred_cutoff_20)\n",
    "confmat_20_full"
   ]
  },
  {
   "cell_type": "code",
   "execution_count": 29,
   "metadata": {},
   "outputs": [
    {
     "data": {
      "text/html": [
       "'Accuracy of the full LR model with threshold at 0.20 is : 85.0262967928225%'"
      ],
      "text/latex": [
       "'Accuracy of the full LR model with threshold at 0.20 is : 85.0262967928225\\%'"
      ],
      "text/markdown": [
       "'Accuracy of the full LR model with threshold at 0.20 is : 85.0262967928225%'"
      ],
      "text/plain": [
       "[1] \"Accuracy of the full LR model with threshold at 0.20 is : 85.0262967928225%\""
      ]
     },
     "metadata": {},
     "output_type": "display_data"
    }
   ],
   "source": [
    "accuracy_20 <- sum(diag(confmat_20_full))/sum(confmat_20_full)\n",
    "\n",
    "paste('Accuracy of the full LR model with threshold at 0.20 is :', paste(accuracy_20 * 100, '%', sep = ''))"
   ]
  },
  {
   "cell_type": "markdown",
   "metadata": {},
   "source": [
    "Even with all the predictor variables we are not able to increase the accuracy in our model. But what we have successfully done here is that we have increased the model complexity and made it even harder to interpret. We should stick to our first model with 4 predictor variables as it is much easy to interpret and gives more or less the same result.\n",
    "\n",
    "Let’s now see how the model performs with the ROC Curve."
   ]
  },
  {
   "cell_type": "code",
   "execution_count": 30,
   "metadata": {},
   "outputs": [
    {
     "data": {
      "image/png": "[encoded data removed]",
      "text/plain": [
       "plot without title"
      ]
     },
     "metadata": {},
     "output_type": "display_data"
    }
   ],
   "source": [
    "pred_train_full <- predict(log_reg_full,type = \"response\")\n",
    "\n",
    "predROC_full <- prediction(pred_train_full, training_set$loan_status)\n",
    "\n",
    "perfROC_full <- performance(predROC_full,\"tpr\",\"fpr\")\n",
    "\n",
    "plot(perfROC_full, colorize = TRUE,\n",
    "     print.cutoffs.at = seq(0,1,0.1),text.adj = c(-0.2,1.7))"
   ]
  },
  {
   "cell_type": "code",
   "execution_count": 31,
   "metadata": {},
   "outputs": [
    {
     "data": {
      "text/html": [
       "'Area under the curve for the full model is : 0.660465262696488'"
      ],
      "text/latex": [
       "'Area under the curve for the full model is : 0.660465262696488'"
      ],
      "text/markdown": [
       "'Area under the curve for the full model is : 0.660465262696488'"
      ],
      "text/plain": [
       "[1] \"Area under the curve for the full model is : 0.660465262696488\""
      ]
     },
     "metadata": {},
     "output_type": "display_data"
    }
   ],
   "source": [
    "AUC_full <- as.numeric(performance(predROC_full , \"auc\")@y.values)\n",
    "\n",
    "paste('Area under the curve for the full model is :', AUC_full)"
   ]
  },
  {
   "cell_type": "markdown",
   "metadata": {},
   "source": [
    "The AUC for this model comes out to be 0.660465 which is **not a significant gain from our previous model**. Let’s move onto CART(Classification and Regression Trees) to see if we can make better predicions on this highly unbalanced data with Decision Trees and the various techniques that come with it."
   ]
  },
  {
   "cell_type": "markdown",
   "metadata": {},
   "source": [
    "So far, we think we have done a great job at classifying loan defaults. **Let's think for a minute. If there are 100 samples and if one class has a 90% representation in the data and the other has only 10%, if we classify every sample as the majority class, then doesn't our accuracy become 90%?**\n",
    "\n",
    "This is the problem with imbalanced data. So, how do we make ammends, I hear you ask? "
   ]
  },
  {
   "cell_type": "markdown",
   "metadata": {},
   "source": [
    "# STATISTICAL MEASURES WE NEED TO TALK ABOUT\n",
    "\n",
    "**Sensitivity** and **Specificity** are statistical measures of the performance of a binary classification test, also known in statistics as classification function.\n",
    "\n",
    "**Sensitivity:** (also called the true positive rate, or the recall) **measures the proportion of positives that are correctly identified as such** (e.g., the percentage of sick people who are correctly identified as having the condition).\n",
    "\n",
    "**Specificity:** (also called the true negative rate) **measures the proportion of negatives that are correctly identified as such** (e.g., the percentage of healthy people who are correctly identified as not having the condition)."
   ]
  },
  {
   "cell_type": "markdown",
   "metadata": {},
   "source": [
    "# CLASSIFICATION AND REGRESSION TREES\n",
    "\n",
    "What is CART?\n",
    "\n",
    "Decision tree learning uses a decision tree as a predictive model which maps observations about an item to conclusions about the item’s target value. It is one of the predictive modelling approaches used in statistics, data mining and machine learning. Tree models where the target variable can take a finite set of values are called classification trees.\n",
    "\n",
    "In these tree structures, leaves represent class labels and branches represent conjunctions of features that lead to those class labels. Decision trees where the target variable can take continuous values (typically real numbers) are called regression trees. Decision tree learning is a method commonly used in data mining. The goal is to create a model that predicts the value of a target variable based on several input variables.\n",
    "\n",
    "We should not make the same mistake that we made during building Logistic Regression model of training and predicting on an imbalanced dataset, which will give us a poor classifier."
   ]
  },
  {
   "cell_type": "markdown",
   "metadata": {},
   "source": [
    "## PRIOR PROBABILITIES\n",
    "\n",
    "In this technique, we will **explicitly define the probabilities of defaults and non-defaults**, such that the CART model knows when to classify the observation as a default."
   ]
  },
  {
   "cell_type": "code",
   "execution_count": 32,
   "metadata": {},
   "outputs": [
    {
     "name": "stderr",
     "output_type": "stream",
     "text": [
      "Rattle: A free graphical interface for data science with R.\n",
      "Version 5.2.0 Copyright (c) 2006-2018 Togaware Pty Ltd.\n",
      "Type 'rattle()' to shake, rattle, and roll your data.\n"
     ]
    },
    {
     "data": {
      "image/png": "[encoded data removed]",
      "text/plain": [
       "plot without title"
      ]
     },
     "metadata": {},
     "output_type": "display_data"
    }
   ],
   "source": [
    "# Decision Trees\n",
    "\n",
    "library(rpart, warn.conflicts = FALSE) # making decision trees.\n",
    "library(rpart.plot, warn.conflicts = FALSE) # for plotcp and princp functions.\n",
    "library(rattle, warn.conflicts = FALSE)\n",
    "library(RColorBrewer, warn.conflicts = FALSE) # for great decision tree plots\n",
    " \n",
    "# Changing the prior probabilities of loan default and non-loan default\n",
    "\n",
    "tree_prior <- rpart(loan_status ~., method = 'class',\n",
    "                    data = training_set,\n",
    "                    parms = list(prior = c(0.7,0.3)), # changing the probabilities of non loan default to 0.7\n",
    "                    control = rpart.control(cp = 0.001)) # and loan default to 0.3\n",
    "\n",
    "prp(tree_prior)"
   ]
  },
  {
   "cell_type": "markdown",
   "metadata": {},
   "source": [
    "There it is, we have a Decision Tree rules. The **complexity parameter** (cp) is used to **control the size of the decision tree and to select the optimal tree size**. If the cost of adding another variable to the decision tree from the current node is above the value of cp, then tree building does not continue.\n",
    "\n",
    "Below, we print out all the values of the complexity parameter and errors to find the best value for hyperparameter cp."
   ]
  },
  {
   "cell_type": "code",
   "execution_count": 33,
   "metadata": {},
   "outputs": [
    {
     "name": "stdout",
     "output_type": "stream",
     "text": [
      "\n",
      "Classification tree:\n",
      "rpart(formula = loan_status ~ ., data = training_set, method = \"class\", \n",
      "    parms = list(prior = c(0.7, 0.3)), control = rpart.control(cp = 0.001))\n",
      "\n",
      "Variables actually used in tree construction:\n",
      "[1] age            annual_inc     emp_cat        grade          home_ownership\n",
      "[6] loan_amnt     \n",
      "\n",
      "Root node error: 5818.2/19394 = 0.3\n",
      "\n",
      "n= 19394 \n",
      "\n",
      "          CP nsplit rel error  xerror     xstd\n",
      "1  0.0029135      0   1.00000 1.00000 0.020116\n",
      "2  0.0019726      6   0.97239 0.99144 0.019353\n",
      "3  0.0016211      7   0.97042 0.99340 0.019286\n",
      "4  0.0016155      9   0.96718 0.99603 0.019251\n",
      "5  0.0015170     10   0.96556 0.99399 0.019249\n",
      "6  0.0014976     14   0.95901 0.99481 0.019250\n",
      "7  0.0012573     19   0.95020 0.99526 0.019254\n",
      "8  0.0012393     20   0.94894 0.99644 0.019209\n",
      "9  0.0011956     24   0.94398 0.99698 0.019210\n",
      "10 0.0010359     26   0.94159 0.99931 0.019192\n",
      "11 0.0010000     28   0.93952 1.00143 0.019190\n"
     ]
    }
   ],
   "source": [
    "printcp(tree_prior) # cp and xerror values"
   ]
  },
  {
   "cell_type": "markdown",
   "metadata": {},
   "source": [
    "This is proving a little difficult to comprehend, let's make a plot and maybe that'll help us figure out the best value for cp better."
   ]
  },
  {
   "cell_type": "code",
   "execution_count": 34,
   "metadata": {},
   "outputs": [
    {
     "data": {
      "image/png": "[encoded data removed]",
      "text/plain": [
       "plot without title"
      ]
     },
     "metadata": {},
     "output_type": "display_data"
    }
   ],
   "source": [
    "plotcp(tree_prior) # cp vs xerror plot"
   ]
  },
  {
   "cell_type": "markdown",
   "metadata": {},
   "source": [
    "Hmm. Still not that obvious, but we do seem to have an inkling of what could be the best value for cp. We must isolate the optimal value, and that's exactly what we will do."
   ]
  },
  {
   "cell_type": "code",
   "execution_count": 35,
   "metadata": {},
   "outputs": [
    {
     "data": {
      "text/html": [
       "0.0019726423765018"
      ],
      "text/latex": [
       "0.0019726423765018"
      ],
      "text/markdown": [
       "0.0019726423765018"
      ],
      "text/plain": [
       "[1] 0.001972642"
      ]
     },
     "metadata": {},
     "output_type": "display_data"
    }
   ],
   "source": [
    "tree_min <- tree_prior$cptable[which.min(tree_prior$cptable[,\"xerror\"]),\"CP\"]\n",
    "\n",
    "tree_min"
   ]
  },
  {
   "cell_type": "code",
   "execution_count": 36,
   "metadata": {},
   "outputs": [
    {
     "data": {
      "image/png": "[encoded data removed]",
      "text/plain": [
       "Plot with title \"\""
      ]
     },
     "metadata": {},
     "output_type": "display_data"
    }
   ],
   "source": [
    "# pruning the tree for increased model performance.\n",
    "\n",
    "ptree_prior <- prune(tree_prior, cp = tree_min) # pruning the tree.\n",
    "\n",
    "fancyRpartPlot(ptree_prior)\n",
    "\n",
    "pred_prior <- predict(ptree_prior, newdata = testing_set, type = \"class\") # making predictions"
   ]
  },
  {
   "cell_type": "code",
   "execution_count": 37,
   "metadata": {},
   "outputs": [
    {
     "data": {
      "text/plain": [
       "   pred_prior\n",
       "       0    1\n",
       "  0 8332  330\n",
       "  1  933  102"
      ]
     },
     "metadata": {},
     "output_type": "display_data"
    }
   ],
   "source": [
    "confmat_prior <- table(testing_set$loan_status, pred_prior) # making the confusion matrix.\n",
    "\n",
    "confmat_prior # 0.098 Sensitivity"
   ]
  },
  {
   "cell_type": "markdown",
   "metadata": {},
   "source": [
    "Before we can go and check the accuracy, it's better to have a look at the ROC for our Decision Tree with prior probabilities. We will use the predict method again, but this time with probabilities, before we can pass it to the auc and roc function of the package pROC."
   ]
  },
  {
   "cell_type": "code",
   "execution_count": 38,
   "metadata": {},
   "outputs": [
    {
     "name": "stderr",
     "output_type": "stream",
     "text": [
      "Setting levels: control = 0, case = 1\n",
      "Setting direction: controls < cases\n",
      "Setting levels: control = 0, case = 1\n",
      "Setting direction: controls < cases\n",
      "Setting levels: control = 0, case = 1\n",
      "Setting direction: controls < cases\n"
     ]
    },
    {
     "name": "stdout",
     "output_type": "stream",
     "text": [
      "\n",
      "Call:\n",
      "roc.default(response = testing_set$loan_status, predictor = pred_prior_probs[,     2])\n",
      "\n",
      "Data: pred_prior_probs[, 2] in 8662 controls (testing_set$loan_status 0) < 1035 cases (testing_set$loan_status 1).\n",
      "Area under the curve: 0.6057\n"
     ]
    },
    {
     "data": {
      "image/png": "[encoded data removed]",
      "text/plain": [
       "plot without title"
      ]
     },
     "metadata": {},
     "output_type": "display_data"
    }
   ],
   "source": [
    "pred_prior_probs <- predict(ptree_prior, newdata = testing_set, type = 'prob')\n",
    "\n",
    "auc_loss_matrix <- auc(testing_set$loan_status, pred_prior_probs[, 2])\n",
    "\n",
    "plot(roc(testing_set$loan_status, pred_prior_probs[, 2]))\n",
    "\n",
    "print(roc(testing_set$loan_status, pred_prior_probs[, 2]))"
   ]
  },
  {
   "cell_type": "code",
   "execution_count": 39,
   "metadata": {},
   "outputs": [
    {
     "data": {
      "text/html": [
       "'Accuracy of the Decision Tree with prior probabilities is : 86.9753532020212%'"
      ],
      "text/latex": [
       "'Accuracy of the Decision Tree with prior probabilities is : 86.9753532020212\\%'"
      ],
      "text/markdown": [
       "'Accuracy of the Decision Tree with prior probabilities is : 86.9753532020212%'"
      ],
      "text/plain": [
       "[1] \"Accuracy of the Decision Tree with prior probabilities is : 86.9753532020212%\""
      ]
     },
     "metadata": {},
     "output_type": "display_data"
    }
   ],
   "source": [
    "acc_prior <- sum(diag(confmat_prior)) / sum(confmat_prior)\n",
    "\n",
    "paste('Accuracy of the Decision Tree with prior probabilities is :', paste(acc_prior * 100, '%', sep = ''))"
   ]
  },
  {
   "cell_type": "markdown",
   "metadata": {},
   "source": [
    "We see a brilliant 87% accuracy with this model, not only is this an increase of 3% from our Logistic Regression model, it is also a more accurate classifier considering the imbalanced class representation."
   ]
  },
  {
   "cell_type": "markdown",
   "metadata": {},
   "source": [
    "## LOSS MATRIX\n",
    "\n",
    "In this technique, we will penalize our model every time it classifies a default as a non-default or a non-default as a default. This is a very strict model and most of the times we won’t get desired results. But let's give it a shot nevertheless."
   ]
  },
  {
   "cell_type": "code",
   "execution_count": 40,
   "metadata": {},
   "outputs": [
    {
     "name": "stdout",
     "output_type": "stream",
     "text": [
      "\n",
      "Classification tree:\n",
      "rpart(formula = loan_status ~ ., data = training_set, method = \"class\", \n",
      "    parms = list(loss = matrix(c(0, 10, 1, 0), ncol = 2)), control = rpart.control(cp = 0.001))\n",
      "\n",
      "Variables actually used in tree construction:\n",
      "[1] age            annual_inc     emp_cat        grade          home_ownership\n",
      "[6] ir_cat         loan_amnt     \n",
      "\n",
      "Root node error: 17202/19394 = 0.88698\n",
      "\n",
      "n= 19394 \n",
      "\n",
      "          CP nsplit rel error  xerror     xstd\n",
      "1  0.1314963      0   1.00000 10.0000 0.025633\n",
      "2  0.0051738      1   0.86850  6.5096 0.039847\n",
      "3  0.0050285      2   0.86333  6.5558 0.039791\n",
      "4  0.0046312      4   0.85327  6.4853 0.039869\n",
      "5  0.0024997      7   0.83938  5.8622 0.040261\n",
      "6  0.0024706      8   0.83688  5.9880 0.040224\n",
      "7  0.0020540     15   0.81874  5.9124 0.040251\n",
      "8  0.0018602     18   0.81258  5.8952 0.040256\n",
      "9  0.0018021     21   0.80700  5.7612 0.040279\n",
      "10 0.0015115     22   0.80520  5.6579 0.040276\n",
      "11 0.0014533     23   0.80369  5.6527 0.040276\n",
      "12 0.0012595     24   0.80223  5.5843 0.040265\n",
      "13 0.0012208     27   0.79845  5.5538 0.040261\n",
      "14 0.0011917     31   0.79357  5.5630 0.040262\n",
      "15 0.0011627     42   0.78014  5.5456 0.040260\n",
      "16 0.0011211     43   0.77898  5.5737 0.040266\n",
      "17 0.0010464     52   0.76793  5.5428 0.040259\n",
      "18 0.0010000     54   0.76584  5.4809 0.040240\n"
     ]
    }
   ],
   "source": [
    "# Including a loss matrix\n",
    "\n",
    "tree_loss_matrix <- rpart(loan_status ~., method = \"class\",\n",
    "                          data = training_set,\n",
    "                          parms = list(loss = matrix(c(0,10,1,0), ncol = 2)), # penalizing classifying a default \n",
    "                          control = rpart.control(cp = 0.001))  # as a non default 10 times more.\n",
    "\n",
    "printcp(tree_loss_matrix)"
   ]
  },
  {
   "cell_type": "code",
   "execution_count": 41,
   "metadata": {},
   "outputs": [
    {
     "data": {
      "image/png": "[encoded data removed]",
      "text/plain": [
       "plot without title"
      ]
     },
     "metadata": {},
     "output_type": "display_data"
    }
   ],
   "source": [
    "plotcp(tree_loss_matrix)"
   ]
  },
  {
   "cell_type": "code",
   "execution_count": 42,
   "metadata": {},
   "outputs": [],
   "source": [
    "tree_min_loss <- tree_loss_matrix$cptable[which.min(tree_loss_matrix$cptable[,\"xerror\"]),\"CP\"]"
   ]
  },
  {
   "cell_type": "code",
   "execution_count": 43,
   "metadata": {},
   "outputs": [
    {
     "data": {
      "text/html": [
       "0.001"
      ],
      "text/latex": [
       "0.001"
      ],
      "text/markdown": [
       "0.001"
      ],
      "text/plain": [
       "[1] 0.001"
      ]
     },
     "metadata": {},
     "output_type": "display_data"
    }
   ],
   "source": [
    "tree_min_loss"
   ]
  },
  {
   "cell_type": "code",
   "execution_count": 44,
   "metadata": {},
   "outputs": [
    {
     "data": {
      "text/html": [
       "<span style=white-space:pre-wrap>'The best complexity parameter for our Decision Tree with a Loss Matrix will be :  0.001'</span>"
      ],
      "text/latex": [
       "'The best complexity parameter for our Decision Tree with a Loss Matrix will be :  0.001'"
      ],
      "text/markdown": [
       "<span style=white-space:pre-wrap>'The best complexity parameter for our Decision Tree with a Loss Matrix will be :  0.001'</span>"
      ],
      "text/plain": [
       "[1] \"The best complexity parameter for our Decision Tree with a Loss Matrix will be :  0.001\""
      ]
     },
     "metadata": {},
     "output_type": "display_data"
    }
   ],
   "source": [
    "paste('The best complexity parameter for our Decision Tree with a Loss Matrix will be : ', tree_min_loss)"
   ]
  },
  {
   "cell_type": "code",
   "execution_count": 45,
   "metadata": {},
   "outputs": [
    {
     "data": {
      "image/png": "[encoded data removed]",
      "text/plain": [
       "plot without title"
      ]
     },
     "metadata": {},
     "output_type": "display_data"
    }
   ],
   "source": [
    "ptree_loss_matrix <- prune(tree_loss_matrix, cp = tree_min_loss)\n",
    "\n",
    "prp(tree_loss_matrix)"
   ]
  },
  {
   "cell_type": "markdown",
   "metadata": {},
   "source": [
    "We see a huge tree which is **very hard to interpret, is oversized and is definitely suffering from Overfitting. Overfitting is a huge problem in Machine Learning as it generalizes all too well on the training set and hence fails to do well on the test set or unseen observations.** I hope we can do something about it in the next model."
   ]
  },
  {
   "cell_type": "code",
   "execution_count": 46,
   "metadata": {},
   "outputs": [
    {
     "data": {
      "text/plain": [
       "   pred_loss_matrix\n",
       "       0    1\n",
       "  0 3866 4796\n",
       "  1  250  785"
      ]
     },
     "metadata": {},
     "output_type": "display_data"
    }
   ],
   "source": [
    "pred_loss_matrix <- predict(ptree_loss_matrix, newdata = testing_set, type = \"class\")\n",
    "\n",
    "confmat_loss_matrix <- table(testing_set$loan_status, pred_loss_matrix)\n",
    "\n",
    "confmat_loss_matrix # 0.7584 Sensitivity "
   ]
  },
  {
   "cell_type": "markdown",
   "metadata": {},
   "source": [
    "Looks like the accuracy of this model is going to be really bad! But **look at the number of cases where it has classified a default as a default!** Bravo! The algorithm does really well in catching the defaulters, however, if you look closely, it also classifies as lot of non-defaulters as defaulters, hence this is not the best model for us.\n",
    "\n",
    "Before we can go and check the accuracy, it's better to have a look at the ROC for our Decision Tree with loss matrix. We will use the predict method again, but this time with probabilities, before we can pass it to the auc and roc function of the package pROC."
   ]
  },
  {
   "cell_type": "code",
   "execution_count": 47,
   "metadata": {},
   "outputs": [
    {
     "name": "stderr",
     "output_type": "stream",
     "text": [
      "Setting levels: control = 0, case = 1\n",
      "Setting direction: controls < cases\n",
      "Setting levels: control = 0, case = 1\n",
      "Setting direction: controls < cases\n",
      "Setting levels: control = 0, case = 1\n",
      "Setting direction: controls < cases\n"
     ]
    },
    {
     "name": "stdout",
     "output_type": "stream",
     "text": [
      "\n",
      "Call:\n",
      "roc.default(response = testing_set$loan_status, predictor = pred_loss_probs[,     2])\n",
      "\n",
      "Data: pred_loss_probs[, 2] in 8662 controls (testing_set$loan_status 0) < 1035 cases (testing_set$loan_status 1).\n",
      "Area under the curve: 0.6265\n"
     ]
    },
    {
     "data": {
      "image/png": "[encoded data removed]",
      "text/plain": [
       "plot without title"
      ]
     },
     "metadata": {},
     "output_type": "display_data"
    }
   ],
   "source": [
    "pred_loss_probs <- predict(ptree_loss_matrix, newdata = testing_set, type = 'prob')\n",
    "\n",
    "auc_loss_matrix <- auc(testing_set$loan_status, pred_loss_probs[, 2])\n",
    "\n",
    "plot(roc(testing_set$loan_status, pred_loss_probs[, 2]))\n",
    "\n",
    "print(roc(testing_set$loan_status, pred_loss_probs[, 2]))"
   ]
  },
  {
   "cell_type": "code",
   "execution_count": 48,
   "metadata": {},
   "outputs": [
    {
     "data": {
      "text/html": [
       "'Accuracy of the Decision Tree with loss matrix is : 47.9632876147262%'"
      ],
      "text/latex": [
       "'Accuracy of the Decision Tree with loss matrix is : 47.9632876147262\\%'"
      ],
      "text/markdown": [
       "'Accuracy of the Decision Tree with loss matrix is : 47.9632876147262%'"
      ],
      "text/plain": [
       "[1] \"Accuracy of the Decision Tree with loss matrix is : 47.9632876147262%\""
      ]
     },
     "metadata": {},
     "output_type": "display_data"
    }
   ],
   "source": [
    "acc_loss_matrix <- sum(diag(confmat_loss_matrix)) / sum(confmat_loss_matrix)\n",
    "\n",
    "paste('Accuracy of the Decision Tree with loss matrix is :', paste(acc_loss_matrix * 100, '%', sep = ''))"
   ]
  },
  {
   "cell_type": "markdown",
   "metadata": {},
   "source": [
    "Terrible, just terrible! The Decision Tree does even worse than a 50/50 guessing algorithm. Maybe we have penalized our model a bit too much."
   ]
  },
  {
   "cell_type": "markdown",
   "metadata": {},
   "source": [
    "# WEIGHTED MATRIX\n",
    "\n",
    "In this technique, we weight the important default cases and tell our algorithm to refer to them when classifying.\n",
    "\n",
    "Here, **cp, minsplit anf minbucket** are all hyperparameters. We will follow the the similar approach, the only difference would be that we have something called **class weights** now. Class weights are weights that are initialized to 1 if the sample belongs to a **non-default** case where as it is initialized with a 3 if the sample belongs to a **default** case. Hence, artificially giving weights to the model, which is being fed in via the **weights** paramter which comes built-in in rpart."
   ]
  },
  {
   "cell_type": "code",
   "execution_count": 49,
   "metadata": {},
   "outputs": [
    {
     "data": {
      "image/png": "[encoded data removed]",
      "text/plain": [
       "plot without title"
      ]
     },
     "metadata": {},
     "output_type": "display_data"
    }
   ],
   "source": [
    "# including case weights for the training set\n",
    "\n",
    "case_weights <- ifelse(training_set$loan_status == 0,1,3)\n",
    "\n",
    "tree_weights <- rpart(loan_status ~ ., method = \"class\", \n",
    "                      data = training_set, \n",
    "                      control = rpart.control(cp = 0.001, minsplit = 5, minbucket = 2),\n",
    "                      weights = case_weights)\n",
    "\n",
    "plotcp(tree_weights)"
   ]
  },
  {
   "cell_type": "code",
   "execution_count": 50,
   "metadata": {},
   "outputs": [
    {
     "data": {
      "text/html": [
       "0.00136861313868613"
      ],
      "text/latex": [
       "0.00136861313868613"
      ],
      "text/markdown": [
       "0.00136861313868613"
      ],
      "text/plain": [
       "[1] 0.001368613"
      ]
     },
     "metadata": {},
     "output_type": "display_data"
    }
   ],
   "source": [
    "tree_min_weighing <- tree_weights$cptable[which.min(tree_weights$cptable[,\"xerror\"]),\"CP\"]\n",
    "\n",
    "tree_min_weighing"
   ]
  },
  {
   "cell_type": "code",
   "execution_count": 51,
   "metadata": {},
   "outputs": [
    {
     "data": {
      "image/png": "[encoded data removed]",
      "text/plain": [
       "Plot with title \"\""
      ]
     },
     "metadata": {},
     "output_type": "display_data"
    }
   ],
   "source": [
    "ptree_weights <- prune(tree_weights, cp = tree_min_weighing)\n",
    "\n",
    "fancyRpartPlot(ptree_weights)"
   ]
  },
  {
   "cell_type": "code",
   "execution_count": 52,
   "metadata": {},
   "outputs": [
    {
     "data": {
      "text/plain": [
       "   pred_weights\n",
       "       0    1\n",
       "  0 8488  174\n",
       "  1  980   55"
      ]
     },
     "metadata": {},
     "output_type": "display_data"
    }
   ],
   "source": [
    "pred_weights <- predict(ptree_weights, newdata = testing_set, type = 'class')\n",
    "\n",
    "confmat_weights <- table(testing_set$loan_status, pred_weights)\n",
    "confmat_weights # 0.0444 Sensitivity"
   ]
  },
  {
   "cell_type": "markdown",
   "metadata": {},
   "source": [
    "This model seems to be doing great in classifying the non-defaulters and does okayish on the catching the defaulters."
   ]
  },
  {
   "cell_type": "code",
   "execution_count": 53,
   "metadata": {},
   "outputs": [
    {
     "name": "stderr",
     "output_type": "stream",
     "text": [
      "Setting levels: control = 0, case = 1\n",
      "Setting direction: controls < cases\n",
      "Setting levels: control = 0, case = 1\n",
      "Setting direction: controls < cases\n",
      "Setting levels: control = 0, case = 1\n",
      "Setting direction: controls < cases\n"
     ]
    },
    {
     "name": "stdout",
     "output_type": "stream",
     "text": [
      "\n",
      "Call:\n",
      "roc.default(response = testing_set$loan_status, predictor = pred_weights_probs[,     2])\n",
      "\n",
      "Data: pred_weights_probs[, 2] in 8662 controls (testing_set$loan_status 0) < 1035 cases (testing_set$loan_status 1).\n",
      "Area under the curve: 0.605\n"
     ]
    },
    {
     "data": {
      "image/png": "[encoded data removed]",
      "text/plain": [
       "plot without title"
      ]
     },
     "metadata": {},
     "output_type": "display_data"
    }
   ],
   "source": [
    "pred_weights_probs <- predict(ptree_weights, newdata = testing_set, type = 'prob')\n",
    "\n",
    "auc_weights <- auc(testing_set$loan_status, pred_weights_probs[, 2])\n",
    "\n",
    "plot(roc(testing_set$loan_status, pred_weights_probs[, 2]))\n",
    "\n",
    "print(roc(testing_set$loan_status, pred_weights_probs[, 2]))"
   ]
  },
  {
   "cell_type": "code",
   "execution_count": 54,
   "metadata": {},
   "outputs": [
    {
     "data": {
      "text/html": [
       "'Accuracy of the Decision Tree with weighted matrix is : 88.0994121893369%'"
      ],
      "text/latex": [
       "'Accuracy of the Decision Tree with weighted matrix is : 88.0994121893369\\%'"
      ],
      "text/markdown": [
       "'Accuracy of the Decision Tree with weighted matrix is : 88.0994121893369%'"
      ],
      "text/plain": [
       "[1] \"Accuracy of the Decision Tree with weighted matrix is : 88.0994121893369%\""
      ]
     },
     "metadata": {},
     "output_type": "display_data"
    }
   ],
   "source": [
    "acc_weights <- sum(diag(confmat_weights)) / sum(confmat_weights)\n",
    "\n",
    "paste('Accuracy of the Decision Tree with weighted matrix is :', paste(acc_weights * 100, '%', sep = ''))"
   ]
  },
  {
   "cell_type": "markdown",
   "metadata": {},
   "source": [
    "Accuracy is great, but not the only metric that we should be taking into account while dealing with such disproportionate datasets. "
   ]
  },
  {
   "cell_type": "markdown",
   "metadata": {},
   "source": [
    "# UNDERSAMPLING\n",
    "\n",
    "This is the last trick we have up our sleeves, let's see how it performs on our data. For simplicity, I have done the sampling in another notebook and saved it in the file `undersampled_training_set.xlsx`. In this, I have sampled the data in such a way that it has 1/3 of the data representing defaults and the rest, 2/3 of it as non-defaults."
   ]
  },
  {
   "cell_type": "code",
   "execution_count": 55,
   "metadata": {},
   "outputs": [],
   "source": [
    "undersampled_training_set <- read_excel('undersampled_training_set.xlsx')"
   ]
  },
  {
   "cell_type": "code",
   "execution_count": 56,
   "metadata": {},
   "outputs": [
    {
     "data": {
      "text/plain": [
       "  loan_status       loan_amnt        grade           home_ownership    \n",
       " Min.   :0.0000   Min.   : 1000   Length:6570        Length:6570       \n",
       " 1st Qu.:0.0000   1st Qu.: 5000   Class :character   Class :character  \n",
       " Median :0.0000   Median : 8000   Mode  :character   Mode  :character  \n",
       " Mean   :0.3333   Mean   : 9494                                        \n",
       " 3rd Qu.:1.0000   3rd Qu.:12000                                        \n",
       " Max.   :1.0000   Max.   :35000                                        \n",
       "   annual_inc          age          emp_cat             ir_cat         \n",
       " Min.   :  4080   Min.   :20.00   Length:6570        Length:6570       \n",
       " 1st Qu.: 38000   1st Qu.:23.00   Class :character   Class :character  \n",
       " Median : 55000   Median :26.00   Mode  :character   Mode  :character  \n",
       " Mean   : 64800   Mean   :27.62                                        \n",
       " 3rd Qu.: 79150   3rd Qu.:30.00                                        \n",
       " Max.   :900000   Max.   :78.00                                        "
      ]
     },
     "metadata": {},
     "output_type": "display_data"
    },
    {
     "name": "stdout",
     "output_type": "stream",
     "text": [
      "Classes 'tbl_df', 'tbl' and 'data.frame':\t6570 obs. of  8 variables:\n",
      " $ loan_status   : num  1 1 1 1 1 1 1 1 1 1 ...\n",
      " $ loan_amnt     : num  15000 6600 2200 24250 2500 ...\n",
      " $ grade         : chr  \"E\" \"D\" \"A\" \"D\" ...\n",
      " $ home_ownership: chr  \"RENT\" \"RENT\" \"MORTGAGE\" \"RENT\" ...\n",
      " $ annual_inc    : num  62000 30000 45000 136000 18984 ...\n",
      " $ age           : num  21 29 31 31 22 45 36 28 27 37 ...\n",
      " $ emp_cat       : chr  \"0-15\" \"0-15\" \"0-15\" \"0-15\" ...\n",
      " $ ir_cat        : chr  \"13.5+\" \"13.5+\" \"0-8\" \"13.5+\" ...\n"
     ]
    }
   ],
   "source": [
    "summary(undersampled_training_set)\n",
    "\n",
    "str(undersampled_training_set)"
   ]
  },
  {
   "cell_type": "markdown",
   "metadata": {},
   "source": [
    "Very similar to our loan dataset, let's see the distribution of classes after undersampling the non-defaulters."
   ]
  },
  {
   "cell_type": "code",
   "execution_count": 57,
   "metadata": {},
   "outputs": [
    {
     "data": {
      "image/png": "[encoded data removed]",
      "text/plain": [
       "plot without title"
      ]
     },
     "metadata": {},
     "output_type": "display_data"
    }
   ],
   "source": [
    "ggplot(undersampled_training_set, aes(x = loan_amnt, color = as.factor(loan_status))) + geom_histogram(position = 'identity', binwidth = 300) +\n",
    "      scale_color_brewer(palette = 'Dark2') +\n",
    "      dark_theme_gray(base_size = 14) + xlab('Loan Amount') + ylab('Frequency') + ggtitle('Loan Amount vs Loan Status')"
   ]
  },
  {
   "cell_type": "markdown",
   "metadata": {},
   "source": [
    "Clearly, the non-defaulters seem to have been undersampled, as evident from the distribution above."
   ]
  },
  {
   "cell_type": "code",
   "execution_count": 58,
   "metadata": {},
   "outputs": [
    {
     "data": {
      "image/png": "[encoded data removed]",
      "text/plain": [
       "plot without title"
      ]
     },
     "metadata": {},
     "output_type": "display_data"
    }
   ],
   "source": [
    "gg_status_loan <- ggplot(undersampled_training_set, aes(x = factor(loan_status), fill = grade))\n",
    "\n",
    "val = c('lightcyan2', 'lightcyan3','lightblue','lightcyan4','cadetblue3','aquamarine','darkblue')\n",
    "lab = c('A','B','C','D','E','F','G')\n",
    "gg_status_loan + geom_bar(position = 'dodge', alpha = 0.75) + \n",
    "      scale_x_discrete('Loan Status') +\n",
    "      scale_y_continuous('Frequency') +\n",
    "      scale_fill_manual('Grades', values = val, labels = lab) +\n",
    "      scale_color_brewer(palette = 'Dark2') +\n",
    "      dark_theme_gray(base_size = 14)"
   ]
  },
  {
   "cell_type": "markdown",
   "metadata": {},
   "source": [
    "Again, just to confirm, the non-defaulters have been undersampled to make the classes a bit more proportional. Time to build a tree to test if undersampling has any significant impact on the results that we have already seen with three different models."
   ]
  },
  {
   "cell_type": "code",
   "execution_count": 59,
   "metadata": {},
   "outputs": [],
   "source": [
    "tree_undersample <- rpart(loan_status ~., method = 'class',\n",
    "                          data = undersampled_training_set,\n",
    "                          control = rpart.control(cp = 0.001)) # our first decision tree"
   ]
  },
  {
   "cell_type": "code",
   "execution_count": 60,
   "metadata": {},
   "outputs": [
    {
     "name": "stdout",
     "output_type": "stream",
     "text": [
      "\n",
      "Classification tree:\n",
      "rpart(formula = loan_status ~ ., data = undersampled_training_set, \n",
      "    method = \"class\", control = rpart.control(cp = 0.001))\n",
      "\n",
      "Variables actually used in tree construction:\n",
      "[1] age            annual_inc     emp_cat        grade          home_ownership\n",
      "[6] ir_cat         loan_amnt     \n",
      "\n",
      "Root node error: 2190/6570 = 0.33333\n",
      "\n",
      "n= 6570 \n",
      "\n",
      "          CP nsplit rel error  xerror     xstd\n",
      "1  0.0059361      0   1.00000 1.00000 0.017447\n",
      "2  0.0044140      4   0.97443 0.99041 0.017405\n",
      "3  0.0036530      7   0.96119 0.99361 0.017419\n",
      "4  0.0031963      8   0.95753 0.99863 0.017441\n",
      "5  0.0029680      9   0.95434 1.00091 0.017451\n",
      "6  0.0025114     11   0.94840 0.99361 0.017419\n",
      "7  0.0024353     14   0.94018 0.99954 0.017445\n",
      "8  0.0022831     17   0.93288 0.99954 0.017445\n",
      "9  0.0016743     18   0.93059 1.00822 0.017483\n",
      "10 0.0015982     21   0.92557 1.02100 0.017537\n",
      "11 0.0015221     31   0.90548 1.02922 0.017571\n",
      "12 0.0014840     34   0.90091 1.02785 0.017565\n",
      "13 0.0013699     50   0.87671 1.02785 0.017565\n",
      "14 0.0012177     65   0.85525 1.03470 0.017593\n",
      "15 0.0011416     68   0.85160 1.03470 0.017593\n",
      "16 0.0010654     76   0.84247 1.03470 0.017593\n",
      "17 0.0010000     79   0.83927 1.03242 0.017584\n"
     ]
    },
    {
     "data": {
      "image/png": "[encoded data removed]",
      "text/plain": [
       "plot without title"
      ]
     },
     "metadata": {},
     "output_type": "display_data"
    }
   ],
   "source": [
    "printcp(tree_undersample)\n",
    "\n",
    "plotcp(tree_undersample)"
   ]
  },
  {
   "cell_type": "code",
   "execution_count": 61,
   "metadata": {},
   "outputs": [
    {
     "data": {
      "text/html": [
       "0.00441400304414003"
      ],
      "text/latex": [
       "0.00441400304414003"
      ],
      "text/markdown": [
       "0.00441400304414003"
      ],
      "text/plain": [
       "[1] 0.004414003"
      ]
     },
     "metadata": {},
     "output_type": "display_data"
    }
   ],
   "source": [
    "tree_min_undersample <- tree_undersample$cptable[which.min(tree_undersample$cptable[,\"xerror\"]),\"CP\"]\n",
    "\n",
    "tree_min_undersample"
   ]
  },
  {
   "cell_type": "code",
   "execution_count": 62,
   "metadata": {},
   "outputs": [],
   "source": [
    "ptree_undersample <- prune(tree_undersample, cp = tree_min_undersample)"
   ]
  },
  {
   "cell_type": "code",
   "execution_count": 63,
   "metadata": {},
   "outputs": [
    {
     "data": {
      "image/png": "[encoded data removed]",
      "text/plain": [
       "plot without title"
      ]
     },
     "metadata": {},
     "output_type": "display_data"
    }
   ],
   "source": [
    "prp(tree_undersample)"
   ]
  },
  {
   "cell_type": "markdown",
   "metadata": {},
   "source": [
    "Huge tree! Overfitting? Most probably, this shouldn't be happening, especially after us pruning the tree in the first place, with the best cp parameters."
   ]
  },
  {
   "cell_type": "code",
   "execution_count": 64,
   "metadata": {},
   "outputs": [
    {
     "data": {
      "text/plain": [
       "   pred_undersample\n",
       "       0    1\n",
       "  0 8522  140\n",
       "  1  984   51"
      ]
     },
     "metadata": {},
     "output_type": "display_data"
    }
   ],
   "source": [
    "pred_undersample <- predict(ptree_undersample, newdata = testing_set, type = \"class\") # making predictions.\n",
    "\n",
    "confmat_undersample <- table(testing_set$loan_status, pred_undersample) # making the confusion matrix.\n",
    "confmat_undersample # 0.086 Sensitivity"
   ]
  },
  {
   "cell_type": "code",
   "execution_count": 65,
   "metadata": {},
   "outputs": [
    {
     "name": "stderr",
     "output_type": "stream",
     "text": [
      "Setting levels: control = 0, case = 1\n",
      "Setting direction: controls < cases\n",
      "Setting levels: control = 0, case = 1\n",
      "Setting direction: controls < cases\n",
      "Setting levels: control = 0, case = 1\n",
      "Setting direction: controls < cases\n"
     ]
    },
    {
     "name": "stdout",
     "output_type": "stream",
     "text": [
      "\n",
      "Call:\n",
      "roc.default(response = testing_set$loan_status, predictor = pred_undersample_probs[,     2])\n",
      "\n",
      "Data: pred_undersample_probs[, 2] in 8662 controls (testing_set$loan_status 0) < 1035 cases (testing_set$loan_status 1).\n",
      "Area under the curve: 0.6058\n"
     ]
    },
    {
     "data": {
      "image/png": "[encoded data removed]",
      "text/plain": [
       "plot without title"
      ]
     },
     "metadata": {},
     "output_type": "display_data"
    }
   ],
   "source": [
    "pred_undersample_probs <- predict(ptree_undersample, newdata = testing_set, type = 'prob')\n",
    "\n",
    "auc_weights <- auc(testing_set$loan_status, pred_undersample_probs[, 2])\n",
    "\n",
    "plot(roc(testing_set$loan_status, pred_undersample_probs[, 2]))\n",
    "\n",
    "print(roc(testing_set$loan_status, pred_undersample_probs[, 2]))"
   ]
  },
  {
   "cell_type": "markdown",
   "metadata": {},
   "source": [
    "Hmm. Not much difference from other approaches, but hey, on the positive side, atleast it's not mistakenly classifying non-defaulters as defaulters! Let's check the accuracy."
   ]
  },
  {
   "cell_type": "code",
   "execution_count": 66,
   "metadata": {},
   "outputs": [
    {
     "data": {
      "text/html": [
       "'Accuracy of the Decision Tree with Undersampling is : 88.4087862225431%'"
      ],
      "text/latex": [
       "'Accuracy of the Decision Tree with Undersampling is : 88.4087862225431\\%'"
      ],
      "text/markdown": [
       "'Accuracy of the Decision Tree with Undersampling is : 88.4087862225431%'"
      ],
      "text/plain": [
       "[1] \"Accuracy of the Decision Tree with Undersampling is : 88.4087862225431%\""
      ]
     },
     "metadata": {},
     "output_type": "display_data"
    }
   ],
   "source": [
    "acc_undersample <- sum(diag(confmat_undersample)) / sum(confmat_undersample)\n",
    "\n",
    "paste('Accuracy of the Decision Tree with Undersampling is :', paste(acc_undersample * 100, '%', sep = ''))"
   ]
  },
  {
   "cell_type": "markdown",
   "metadata": {},
   "source": [
    "Good accuracy, but until we find a way to make it more robust to catch defaulters, it's not of much use."
   ]
  },
  {
   "cell_type": "markdown",
   "metadata": {},
   "source": [
    "# CONCLUSION\n",
    "\n",
    "If I were to choose the best model from all of these, I would probably go for the Logistic Regression model with subset of features as it gives a **good sensitivity rate** as well as the highest **area under the curve** and a decent accuracy on top of it (accuracy has the least importance when dealing with imbalanced data ;)). \n",
    "\n",
    "| Model | Accuracy | Sensitivity | AUC |\n",
    "| --- | --- | --- | --- |\n",
    "| Logistic Regression with subset of features | 73.527% | 0.392 | 0.660 |\n",
    "| Logistic Regression with all features | 73.311% | 0.392 | 0.655 |\n",
    "| Decision Trees - Prior Probabilities | 86.975% | 0.098 | 0.6057 |\n",
    "| Decision Trees - Loss Matrix | 47.963% | 0.7584 | 0.6265 |\n",
    "| Decision Trees - Weighted Matrix | 88.398% | 0.0444 | 0.6056 |\n",
    "| Decision Trees - Undersampling | 86.954% | 0.086 | 0.6058 |\n",
    "\n",
    "There are a few other ways which have proven to work well for imbalanced data, like :\n",
    "\n",
    "- SMOTE (Synthetic Minority Oversampling Technique) + Gradient Boosted Trees\n",
    "- XGBoost (Inherently comes with algorithms that deal with imbalance in data)"
   ]
  }
 ],
 "metadata": {
  "kernelspec": {
   "display_name": "R",
   "language": "R",
   "name": "ir"
  },
  "language_info": {
   "codemirror_mode": "r",
   "file_extension": ".r",
   "mimetype": "text/x-r-source",
   "name": "R",
   "pygments_lexer": "r",
   "version": "3.6.1"
  }
 },
 "nbformat": 4,
 "nbformat_minor": 2
}
